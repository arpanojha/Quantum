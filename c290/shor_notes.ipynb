{
  "nbformat": 4,
  "nbformat_minor": 0,
  "metadata": {
    "colab": {
      "name": "shor_notes.ipynb",
      "provenance": [],
      "collapsed_sections": []
    },
    "kernelspec": {
      "name": "python3",
      "display_name": "Python 3"
    },
    "language_info": {
      "name": "python"
    }
  },
  "cells": [
    {
      "cell_type": "markdown",
      "source": [
        "N = p.q \\\\\n",
        "$a^x = 1(mod(N))$, $1 = a^x(mod(N))$ -- Quantum \\\\\n",
        "GCD(N,b) == classically \\\\\n",
        "\n",
        "$x^2 -1 = (x-1)(x+1)$ \\\\\n",
        "standard --> quantum fourier \\\\\n",
        "QFT  \\\\\n",
        "\n",
        "\n",
        "$a^x = 1(mod(N))$,-- Quantum \\\\\n",
        "21 $\n",
        "21 = 10*2 + 1 \\\\\n",
        "1 = 21 mod(10) \\\\\n",
        "\n",
        "\n",
        "$2^0 =1$ \\\\\n",
        "$2^1 =2$ \\\\\n",
        "$2^2 =4$ \\\\\n",
        "$2^3 =8$ \\\\\n",
        "$2^4 =16$ \\\\\n",
        "$2^5 =11$ \\\\\n",
        "$2^6 =1$ \\\\\n",
        "$2^7 =2$ \\\\\n",
        "$2^8 =4$ \\\\\n",
        "\n",
        "$2^{2*3} = 2^6 = 8^2$ \\\\\n",
        "$8^2 = 1 mod(N)$ \\\\\n",
        "$8^2 -1 = 0mod(N)$ \\\\\n",
        "7,9 \\\\\n",
        "GCD(7,21) or/and GCD(9,21) \\\\\n",
        "GCD(a+1,N) or/and GCD(a-1,N) \\\\\n",
        "\n"
      ],
      "metadata": {
        "id": "D6lZO0r886Qs"
      }
    }
  ]
}