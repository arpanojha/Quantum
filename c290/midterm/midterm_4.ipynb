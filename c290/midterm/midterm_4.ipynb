{
 "cells": [
  {
   "cell_type": "code",
   "execution_count": 9,
   "id": "052b19e3",
   "metadata": {},
   "outputs": [],
   "source": [
    "from qiskit import *"
   ]
  },
  {
   "cell_type": "code",
   "execution_count": 10,
   "id": "a73f3578",
   "metadata": {},
   "outputs": [],
   "source": [
    "import qiskit.quantum_info as qi\n",
    "from qiskit.circuit.library import FourierChecking\n",
    "from qiskit.visualization import plot_histogram"
   ]
  },
  {
   "cell_type": "code",
   "execution_count": 11,
   "id": "4e37bbec",
   "metadata": {},
   "outputs": [],
   "source": [
    "qr = QuantumRegister(4)\n",
    "cr = ClassicalRegister(4)\n",
    "circuit = QuantumCircuit(qr,cr)\n",
    "%matplotlib inline"
   ]
  },
  {
   "cell_type": "code",
   "execution_count": 12,
   "id": "8ac74857",
   "metadata": {},
   "outputs": [
    {
     "data": {
      "text/html": [
       "<pre style=\"word-wrap: normal;white-space: pre;background: #fff0;line-height: 1.1;font-family: &quot;Courier New&quot;,Courier,monospace\">         \n",
       "q2_0: |0>\n",
       "         \n",
       "q2_1: |0>\n",
       "         \n",
       "q2_2: |0>\n",
       "         \n",
       "q2_3: |0>\n",
       "         \n",
       " c2: 0 4/\n",
       "         </pre>"
      ],
      "text/plain": [
       "         \n",
       "q2_0: |0>\n",
       "         \n",
       "q2_1: |0>\n",
       "         \n",
       "q2_2: |0>\n",
       "         \n",
       "q2_3: |0>\n",
       "         \n",
       " c2: 0 4/\n",
       "         "
      ]
     },
     "execution_count": 12,
     "metadata": {},
     "output_type": "execute_result"
    }
   ],
   "source": [
    "circuit.draw(initial_state=True)"
   ]
  },
  {
   "cell_type": "code",
   "execution_count": 13,
   "id": "157400ea",
   "metadata": {},
   "outputs": [
    {
     "data": {
      "text/html": [
       "<pre style=\"word-wrap: normal;white-space: pre;background: #fff0;line-height: 1.1;font-family: &quot;Courier New&quot;,Courier,monospace\">           ┌───┐┌───┐┌───┐     \n",
       "q2_0: ──■──┤ X ├┤ X ├┤ X ├─────\n",
       "      ┌─┴─┐├───┤└─┬─┘└─┬─┘┌───┐\n",
       "q2_1: ┤ X ├┤ H ├──┼────■──┤ X ├\n",
       "      ├───┤├───┤  │       └───┘\n",
       "q2_2: ┤ Z ├┤ X ├──■────■───────\n",
       "      └───┘└─┬─┘┌───┐┌─┴─┐     \n",
       "q2_3: ───────■──┤ H ├┤ X ├─────\n",
       "                └───┘└───┘     \n",
       "c2: 4/═════════════════════════\n",
       "                               </pre>"
      ],
      "text/plain": [
       "           ┌───┐┌───┐┌───┐     \n",
       "q2_0: ──■──┤ X ├┤ X ├┤ X ├─────\n",
       "      ┌─┴─┐├───┤└─┬─┘└─┬─┘┌───┐\n",
       "q2_1: ┤ X ├┤ H ├──┼────■──┤ X ├\n",
       "      ├───┤├───┤  │       └───┘\n",
       "q2_2: ┤ Z ├┤ X ├──■────■───────\n",
       "      └───┘└─┬─┘┌───┐┌─┴─┐     \n",
       "q2_3: ───────■──┤ H ├┤ X ├─────\n",
       "                └───┘└───┘     \n",
       "c2: 4/═════════════════════════\n",
       "                               "
      ]
     },
     "execution_count": 13,
     "metadata": {},
     "output_type": "execute_result"
    }
   ],
   "source": [
    "circuit.cx(qr[0],qr[1])\n",
    "circuit.z(qr[2])\n",
    "circuit.x(qr[0])\n",
    "circuit.h(qr[1])\n",
    "circuit.cx(qr[3],qr[2])\n",
    "circuit.cx(qr[2],qr[0])\n",
    "circuit.cx(qr[1],qr[0])\n",
    "circuit.h(qr[3])\n",
    "circuit.x(qr[1])\n",
    "circuit.cx(qr[2],qr[3])\n",
    "circuit.draw()"
   ]
  },
  {
   "cell_type": "code",
   "execution_count": null,
   "id": "4ee04a9c",
   "metadata": {},
   "outputs": [],
   "source": []
  }
 ],
 "metadata": {
  "kernelspec": {
   "display_name": "Python 3",
   "language": "python",
   "name": "python3"
  },
  "language_info": {
   "codemirror_mode": {
    "name": "ipython",
    "version": 3
   },
   "file_extension": ".py",
   "mimetype": "text/x-python",
   "name": "python",
   "nbconvert_exporter": "python",
   "pygments_lexer": "ipython3",
   "version": "3.8.8"
  }
 },
 "nbformat": 4,
 "nbformat_minor": 5
}
