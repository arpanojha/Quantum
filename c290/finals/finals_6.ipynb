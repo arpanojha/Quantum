{
 "cells": [
  {
   "cell_type": "code",
   "execution_count": 3,
   "id": "268b47b9",
   "metadata": {},
   "outputs": [],
   "source": [
    "from qiskit import *\n",
    "import matplotlib.pyplot as plt\n",
    "import numpy as np"
   ]
  },
  {
   "cell_type": "code",
   "execution_count": 4,
   "id": "e6832013",
   "metadata": {},
   "outputs": [
    {
     "data": {
      "image/png": "[encoded data removed]",
      "text/plain": [
       "<Figure size 103.426x84.28 with 1 Axes>"
      ]
     },
     "execution_count": 4,
     "metadata": {},
     "output_type": "execute_result"
    }
   ],
   "source": [
    "circuit_f = QuantumCircuit(1,name='F')\n",
    "# you may enter your solution here\n",
    "circuit_f.draw(output='mpl')"
   ]
  },
  {
   "cell_type": "code",
   "execution_count": 6,
   "id": "64a9dc8a",
   "metadata": {},
   "outputs": [
    {
     "data": {
      "image/png": "[encoded data removed]",
      "text/plain": [
       "<Figure size 387.452x204.68 with 1 Axes>"
      ]
     },
     "execution_count": 6,
     "metadata": {},
     "output_type": "execute_result"
    }
   ],
   "source": [
    "g_circuit = QuantumCircuit(2,1)\n",
    "g_circuit.cx(0,1)\n",
    "g_circuit.z(0)\n",
    "g_circuit.barrier()\n",
    "g_circuit.append(circuit_f,[0])\n",
    "g_circuit.cx(0,1)\n",
    "g_circuit.draw(output='mpl')"
   ]
  },
  {
   "cell_type": "markdown",
   "id": "90cb97bc",
   "metadata": {},
   "source": [
    "## solve F"
   ]
  },
  {
   "cell_type": "code",
   "execution_count": null,
   "id": "b4f9fdf3",
   "metadata": {},
   "outputs": [],
   "source": []
  }
 ],
 "metadata": {
  "kernelspec": {
   "display_name": "Python 3",
   "language": "python",
   "name": "python3"
  },
  "language_info": {
   "codemirror_mode": {
    "name": "ipython",
    "version": 3
   },
   "file_extension": ".py",
   "mimetype": "text/x-python",
   "name": "python",
   "nbconvert_exporter": "python",
   "pygments_lexer": "ipython3",
   "version": "3.8.8"
  }
 },
 "nbformat": 4,
 "nbformat_minor": 5
}
