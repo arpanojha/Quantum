{
 "cells": [
  {
   "cell_type": "code",
   "execution_count": 3,
   "id": "82b9a2d6",
   "metadata": {},
   "outputs": [],
   "source": [
    "from qiskit import *\n",
    "import matplotlib.pyplot as plt\n",
    "import numpy as np"
   ]
  },
  {
   "cell_type": "code",
   "execution_count": 5,
   "id": "5100cf2b",
   "metadata": {},
   "outputs": [
    {
     "data": {
      "image/png": "[encoded data removed]",
      "text/plain": [
       "<Figure size 103.426x84.28 with 1 Axes>"
      ]
     },
     "execution_count": 5,
     "metadata": {},
     "output_type": "execute_result"
    }
   ],
   "source": [
    "circuit_d = QuantumCircuit(1,name='D')\n",
    "# you may enter your solution here\n",
    "circuit_d.draw(output='mpl')"
   ]
  },
  {
   "cell_type": "code",
   "execution_count": 6,
   "id": "a722655a",
   "metadata": {},
   "outputs": [
    {
     "data": {
      "image/png": "[encoded data removed]",
      "text/plain": [
       "<Figure size 103.426x84.28 with 1 Axes>"
      ]
     },
     "execution_count": 6,
     "metadata": {},
     "output_type": "execute_result"
    }
   ],
   "source": [
    "circuit_e = QuantumCircuit(1,name='E')\n",
    "# you may enter your solution here\n",
    "circuit_e.draw(output='mpl')"
   ]
  },
  {
   "cell_type": "code",
   "execution_count": 7,
   "id": "e954c6ea",
   "metadata": {},
   "outputs": [
    {
     "data": {
      "image/png": "[encoded data removed]",
      "text/plain": [
       "<Figure size 387.452x204.68 with 1 Axes>"
      ]
     },
     "execution_count": 7,
     "metadata": {},
     "output_type": "execute_result"
    }
   ],
   "source": [
    "g_circuit = QuantumCircuit(2,1)\n",
    "g_circuit.cx(0,1)\n",
    "g_circuit.z(1)\n",
    "g_circuit.barrier()\n",
    "g_circuit.append(circuit_d,[0])\n",
    "g_circuit.append(circuit_e,[1])\n",
    "g_circuit.cx(0,1)\n",
    "g_circuit.draw(output='mpl')"
   ]
  },
  {
   "cell_type": "markdown",
   "id": "2fcb180e",
   "metadata": {},
   "source": [
    "## If left side of the barrier equals right side of the barrier, what is D and E?"
   ]
  },
  {
   "cell_type": "code",
   "execution_count": null,
   "id": "57424010",
   "metadata": {},
   "outputs": [],
   "source": []
  }
 ],
 "metadata": {
  "kernelspec": {
   "display_name": "Python 3",
   "language": "python",
   "name": "python3"
  },
  "language_info": {
   "codemirror_mode": {
    "name": "ipython",
    "version": 3
   },
   "file_extension": ".py",
   "mimetype": "text/x-python",
   "name": "python",
   "nbconvert_exporter": "python",
   "pygments_lexer": "ipython3",
   "version": "3.8.8"
  }
 },
 "nbformat": 4,
 "nbformat_minor": 5
}
