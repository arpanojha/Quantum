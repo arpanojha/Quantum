{
 "cells": [
  {
   "cell_type": "code",
   "execution_count": 17,
   "id": "e37ca8bb",
   "metadata": {},
   "outputs": [],
   "source": [
    "from qiskit import *"
   ]
  },
  {
   "cell_type": "code",
   "execution_count": 43,
   "id": "15c07693",
   "metadata": {},
   "outputs": [
    {
     "data": {
      "text/html": [
       "<pre style=\"word-wrap: normal;white-space: pre;background: #fff0;line-height: 1.1;font-family: &quot;Courier New&quot;,Courier,monospace\">     \n",
       "q_0: \n",
       "     \n",
       "q_1: \n",
       "     \n",
       "q_2: \n",
       "     \n",
       "c: 2/\n",
       "     </pre>"
      ],
      "text/plain": [
       "     \n",
       "q_0: \n",
       "     \n",
       "q_1: \n",
       "     \n",
       "q_2: \n",
       "     \n",
       "c: 2/\n",
       "     "
      ]
     },
     "execution_count": 43,
     "metadata": {},
     "output_type": "execute_result"
    }
   ],
   "source": [
    "b=2  # number of bits for input\n",
    "circuit = QuantumCircuit(b+1,b)\n",
    "%matplotlib inline\n",
    "circuit.draw()"
   ]
  },
  {
   "cell_type": "code",
   "execution_count": 44,
   "id": "13b58678",
   "metadata": {},
   "outputs": [
    {
     "data": {
      "text/html": [
       "<pre style=\"word-wrap: normal;white-space: pre;background: #fff0;line-height: 1.1;font-family: &quot;Courier New&quot;,Courier,monospace\">     ┌───┐      ░ \n",
       "q_0: ┤ H ├──────░─\n",
       "     ├───┤      ░ \n",
       "q_1: ┤ H ├──────░─\n",
       "     ├───┤┌───┐ ░ \n",
       "q_2: ┤ X ├┤ H ├─░─\n",
       "     └───┘└───┘ ░ \n",
       "c: 2/═════════════\n",
       "                  </pre>"
      ],
      "text/plain": [
       "     ┌───┐      ░ \n",
       "q_0: ┤ H ├──────░─\n",
       "     ├───┤      ░ \n",
       "q_1: ┤ H ├──────░─\n",
       "     ├───┤┌───┐ ░ \n",
       "q_2: ┤ X ├┤ H ├─░─\n",
       "     └───┘└───┘ ░ \n",
       "c: 2/═════════════\n",
       "                  "
      ]
     },
     "execution_count": 44,
     "metadata": {},
     "output_type": "execute_result"
    }
   ],
   "source": [
    "circuit.x(b)\n",
    "circuit.h(range(b+1))\n",
    "circuit.barrier()\n",
    "circuit.draw()"
   ]
  },
  {
   "cell_type": "code",
   "execution_count": 45,
   "id": "cb6c0d71",
   "metadata": {},
   "outputs": [
    {
     "data": {
      "text/html": [
       "<pre style=\"word-wrap: normal;white-space: pre;background: #fff0;line-height: 1.1;font-family: &quot;Courier New&quot;,Courier,monospace\">     ┌───┐      ░            ░ \n",
       "q_0: ┤ H ├──────░───■────────░─\n",
       "     ├───┤      ░   │        ░ \n",
       "q_1: ┤ H ├──────░───┼────■───░─\n",
       "     ├───┤┌───┐ ░ ┌─┴─┐┌─┴─┐ ░ \n",
       "q_2: ┤ X ├┤ H ├─░─┤ X ├┤ X ├─░─\n",
       "     └───┘└───┘ ░ └───┘└───┘ ░ \n",
       "c: 2/══════════════════════════\n",
       "                               </pre>"
      ],
      "text/plain": [
       "     ┌───┐      ░            ░ \n",
       "q_0: ┤ H ├──────░───■────────░─\n",
       "     ├───┤      ░   │        ░ \n",
       "q_1: ┤ H ├──────░───┼────■───░─\n",
       "     ├───┤┌───┐ ░ ┌─┴─┐┌─┴─┐ ░ \n",
       "q_2: ┤ X ├┤ H ├─░─┤ X ├┤ X ├─░─\n",
       "     └───┘└───┘ ░ └───┘└───┘ ░ \n",
       "c: 2/══════════════════════════\n",
       "                               "
      ]
     },
     "execution_count": 45,
     "metadata": {},
     "output_type": "execute_result"
    }
   ],
   "source": [
    "for i in range(b):\n",
    "    circuit.cx(i,b)\n",
    "circuit.barrier()\n",
    "circuit.draw()"
   ]
  },
  {
   "cell_type": "code",
   "execution_count": 46,
   "id": "3396a7e2",
   "metadata": {},
   "outputs": [
    {
     "data": {
      "text/html": [
       "<pre style=\"word-wrap: normal;white-space: pre;background: #fff0;line-height: 1.1;font-family: &quot;Courier New&quot;,Courier,monospace\">     ┌───┐      ░            ░ ┌───┐┌─┐   \n",
       "q_0: ┤ H ├──────░───■────────░─┤ H ├┤M├───\n",
       "     ├───┤      ░   │        ░ ├───┤└╥┘┌─┐\n",
       "q_1: ┤ H ├──────░───┼────■───░─┤ H ├─╫─┤M├\n",
       "     ├───┤┌───┐ ░ ┌─┴─┐┌─┴─┐ ░ └───┘ ║ └╥┘\n",
       "q_2: ┤ X ├┤ H ├─░─┤ X ├┤ X ├─░───────╫──╫─\n",
       "     └───┘└───┘ ░ └───┘└───┘ ░       ║  ║ \n",
       "c: 2/════════════════════════════════╩══╩═\n",
       "                                     0  1 </pre>"
      ],
      "text/plain": [
       "     ┌───┐      ░            ░ ┌───┐┌─┐   \n",
       "q_0: ┤ H ├──────░───■────────░─┤ H ├┤M├───\n",
       "     ├───┤      ░   │        ░ ├───┤└╥┘┌─┐\n",
       "q_1: ┤ H ├──────░───┼────■───░─┤ H ├─╫─┤M├\n",
       "     ├───┤┌───┐ ░ ┌─┴─┐┌─┴─┐ ░ └───┘ ║ └╥┘\n",
       "q_2: ┤ X ├┤ H ├─░─┤ X ├┤ X ├─░───────╫──╫─\n",
       "     └───┘└───┘ ░ └───┘└───┘ ░       ║  ║ \n",
       "c: 2/════════════════════════════════╩══╩═\n",
       "                                     0  1 "
      ]
     },
     "execution_count": 46,
     "metadata": {},
     "output_type": "execute_result"
    }
   ],
   "source": [
    "circuit.h(range(b))\n",
    "circuit.measure(range(b),range(b))\n",
    "circuit.draw()"
   ]
  },
  {
   "cell_type": "code",
   "execution_count": 47,
   "id": "68b86133",
   "metadata": {},
   "outputs": [
    {
     "name": "stdout",
     "output_type": "stream",
     "text": [
      "{'11': 1}\n"
     ]
    }
   ],
   "source": [
    "simulator = Aer.get_backend('qasm_simulator')\n",
    "result = execute(circuit,backend=simulator,shots=1).result()\n",
    "counts = result.get_counts()\n",
    "print(counts)  # 1 implies it is a balanced function ; 0 for constant function\n",
    "\n",
    "# CNOT is a balanced function.. "
   ]
  }
 ],
 "metadata": {
  "kernelspec": {
   "display_name": "Python 3",
   "language": "python",
   "name": "python3"
  },
  "language_info": {
   "codemirror_mode": {
    "name": "ipython",
    "version": 3
   },
   "file_extension": ".py",
   "mimetype": "text/x-python",
   "name": "python",
   "nbconvert_exporter": "python",
   "pygments_lexer": "ipython3",
   "version": "3.8.8"
  }
 },
 "nbformat": 4,
 "nbformat_minor": 5
}
