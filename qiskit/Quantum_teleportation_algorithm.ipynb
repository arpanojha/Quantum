{
 "cells": [
  {
   "cell_type": "code",
   "execution_count": 26,
   "id": "76198821",
   "metadata": {},
   "outputs": [],
   "source": [
    "from qiskit import *\n"
   ]
  },
  {
   "cell_type": "code",
   "execution_count": 16,
   "id": "59243542",
   "metadata": {},
   "outputs": [],
   "source": [
    "circuit = QuantumCircuit(3,3)\n"
   ]
  },
  {
   "cell_type": "code",
   "execution_count": 17,
   "id": "17d819b3",
   "metadata": {},
   "outputs": [
    {
     "data": {
      "text/html": [
       "<pre style=\"word-wrap: normal;white-space: pre;background: #fff0;line-height: 1.1;font-family: &quot;Courier New&quot;,Courier,monospace\">     \n",
       "q_0: \n",
       "     \n",
       "q_1: \n",
       "     \n",
       "q_2: \n",
       "     \n",
       "c: 3/\n",
       "     </pre>"
      ],
      "text/plain": [
       "     \n",
       "q_0: \n",
       "     \n",
       "q_1: \n",
       "     \n",
       "q_2: \n",
       "     \n",
       "c: 3/\n",
       "     "
      ]
     },
     "execution_count": 17,
     "metadata": {},
     "output_type": "execute_result"
    }
   ],
   "source": [
    "%matplotlib inline\n",
    "circuit.draw()"
   ]
  },
  {
   "cell_type": "code",
   "execution_count": 18,
   "id": "e57de574",
   "metadata": {},
   "outputs": [
    {
     "data": {
      "image/png": "[encoded data removed]",
      "text/plain": [
       "<Figure size 206.997x264.88 with 1 Axes>"
      ]
     },
     "execution_count": 18,
     "metadata": {},
     "output_type": "execute_result"
    }
   ],
   "source": [
    "circuit.h(0)\n",
    "circuit.barrier()\n",
    "circuit.draw(output='mpl')"
   ]
  },
  {
   "cell_type": "code",
   "execution_count": 19,
   "id": "460ab7cb",
   "metadata": {},
   "outputs": [
    {
     "data": {
      "text/html": [
       "<pre style=\"word-wrap: normal;white-space: pre;background: #fff0;line-height: 1.1;font-family: &quot;Courier New&quot;,Courier,monospace\">     ┌───┐ ░           \n",
       "q_0: ┤ H ├─░───────────\n",
       "     └───┘ ░ ┌───┐     \n",
       "q_1: ──────░─┤ H ├──■──\n",
       "           ░ └───┘┌─┴─┐\n",
       "q_2: ──────░──────┤ X ├\n",
       "           ░      └───┘\n",
       "c: 3/══════════════════\n",
       "                       </pre>"
      ],
      "text/plain": [
       "     ┌───┐ ░           \n",
       "q_0: ┤ H ├─░───────────\n",
       "     └───┘ ░ ┌───┐     \n",
       "q_1: ──────░─┤ H ├──■──\n",
       "           ░ └───┘┌─┴─┐\n",
       "q_2: ──────░──────┤ X ├\n",
       "           ░      └───┘\n",
       "c: 3/══════════════════\n",
       "                       "
      ]
     },
     "execution_count": 19,
     "metadata": {},
     "output_type": "execute_result"
    }
   ],
   "source": [
    "circuit.h(1)\n",
    "circuit.cx(1,2)\n",
    "circuit.draw()"
   ]
  },
  {
   "cell_type": "code",
   "execution_count": 20,
   "id": "7f601d28",
   "metadata": {},
   "outputs": [
    {
     "data": {
      "text/html": [
       "<pre style=\"word-wrap: normal;white-space: pre;background: #fff0;line-height: 1.1;font-family: &quot;Courier New&quot;,Courier,monospace\">     ┌───┐ ░                ┌───┐\n",
       "q_0: ┤ H ├─░─────────────■──┤ H ├\n",
       "     └───┘ ░ ┌───┐     ┌─┴─┐└───┘\n",
       "q_1: ──────░─┤ H ├──■──┤ X ├─────\n",
       "           ░ └───┘┌─┴─┐└───┘     \n",
       "q_2: ──────░──────┤ X ├──────────\n",
       "           ░      └───┘          \n",
       "c: 3/════════════════════════════\n",
       "                                 </pre>"
      ],
      "text/plain": [
       "     ┌───┐ ░                ┌───┐\n",
       "q_0: ┤ H ├─░─────────────■──┤ H ├\n",
       "     └───┘ ░ ┌───┐     ┌─┴─┐└───┘\n",
       "q_1: ──────░─┤ H ├──■──┤ X ├─────\n",
       "           ░ └───┘┌─┴─┐└───┘     \n",
       "q_2: ──────░──────┤ X ├──────────\n",
       "           ░      └───┘          \n",
       "c: 3/════════════════════════════\n",
       "                                 "
      ]
     },
     "execution_count": 20,
     "metadata": {},
     "output_type": "execute_result"
    }
   ],
   "source": [
    "circuit.cx(0,1)\n",
    "circuit.h(0)\n",
    "circuit.draw()"
   ]
  },
  {
   "cell_type": "code",
   "execution_count": 22,
   "id": "0cc49009",
   "metadata": {},
   "outputs": [
    {
     "data": {
      "text/html": [
       "<pre style=\"word-wrap: normal;white-space: pre;background: #fff0;line-height: 1.1;font-family: &quot;Courier New&quot;,Courier,monospace\">     ┌───┐ ░                ┌───┐┌─┐\n",
       "q_0: ┤ H ├─░─────────────■──┤ H ├┤M├\n",
       "     └───┘ ░ ┌───┐     ┌─┴─┐└┬─┬┘└╥┘\n",
       "q_1: ──────░─┤ H ├──■──┤ X ├─┤M├──╫─\n",
       "           ░ └───┘┌─┴─┐└───┘ └╥┘  ║ \n",
       "q_2: ──────░──────┤ X ├───────╫───╫─\n",
       "           ░      └───┘       ║   ║ \n",
       "c: 3/═════════════════════════╩═══╩═\n",
       "                              1   0 </pre>"
      ],
      "text/plain": [
       "     ┌───┐ ░                ┌───┐┌─┐\n",
       "q_0: ┤ H ├─░─────────────■──┤ H ├┤M├\n",
       "     └───┘ ░ ┌───┐     ┌─┴─┐└┬─┬┘└╥┘\n",
       "q_1: ──────░─┤ H ├──■──┤ X ├─┤M├──╫─\n",
       "           ░ └───┘┌─┴─┐└───┘ └╥┘  ║ \n",
       "q_2: ──────░──────┤ X ├───────╫───╫─\n",
       "           ░      └───┘       ║   ║ \n",
       "c: 3/═════════════════════════╩═══╩═\n",
       "                              1   0 "
      ]
     },
     "execution_count": 22,
     "metadata": {},
     "output_type": "execute_result"
    }
   ],
   "source": [
    "circuit.measure([0,1],[0,1])\n",
    "circuit.draw()"
   ]
  },
  {
   "cell_type": "code",
   "execution_count": 23,
   "id": "02592bb0",
   "metadata": {},
   "outputs": [
    {
     "data": {
      "image/png": "[encoded data removed]",
      "text/plain": [
       "<Figure size 688.597x264.88 with 1 Axes>"
      ]
     },
     "execution_count": 23,
     "metadata": {},
     "output_type": "execute_result"
    }
   ],
   "source": [
    "circuit.barrier()\n",
    "circuit.cx(1,2)\n",
    "circuit.cz(0,2)\n",
    "circuit.draw(output='mpl')"
   ]
  },
  {
   "cell_type": "code",
   "execution_count": 25,
   "id": "351718c9",
   "metadata": {},
   "outputs": [
    {
     "data": {
      "image/png": "[encoded data removed]",
      "text/plain": [
       "<Figure size 504x360 with 1 Axes>"
      ]
     },
     "execution_count": 25,
     "metadata": {},
     "output_type": "execute_result"
    }
   ],
   "source": [
    "circuit.measure(2,2)\n",
    "simulator= Aer.get_backend('qasm_simulator')\n",
    "result = execute(circuit,backend = simulator, shots=1024).result()\n",
    "counts = result.get_counts()\n",
    "from qiskit.tools.visualization import plot_histogram\n",
    "plot_histogram(counts)\n"
   ]
  },
  {
   "cell_type": "code",
   "execution_count": null,
   "id": "9438c46a",
   "metadata": {},
   "outputs": [],
   "source": []
  }
 ],
 "metadata": {
  "kernelspec": {
   "display_name": "Python 3",
   "language": "python",
   "name": "python3"
  },
  "language_info": {
   "codemirror_mode": {
    "name": "ipython",
    "version": 3
   },
   "file_extension": ".py",
   "mimetype": "text/x-python",
   "name": "python",
   "nbconvert_exporter": "python",
   "pygments_lexer": "ipython3",
   "version": "3.8.8"
  }
 },
 "nbformat": 4,
 "nbformat_minor": 5
}
