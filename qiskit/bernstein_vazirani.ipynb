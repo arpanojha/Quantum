{
 "cells": [
  {
   "cell_type": "code",
   "execution_count": 12,
   "id": "85fbde0a",
   "metadata": {},
   "outputs": [],
   "source": [
    "from qiskit import *\n",
    "from qiskit.tools.visualization import plot_histogram\n",
    "%matplotlib inline"
   ]
  },
  {
   "cell_type": "code",
   "execution_count": 13,
   "id": "78eaa408",
   "metadata": {},
   "outputs": [],
   "source": [
    "secret = '101001'\n",
    "l = len(secret)"
   ]
  },
  {
   "cell_type": "code",
   "execution_count": 14,
   "id": "01f72eda",
   "metadata": {},
   "outputs": [
    {
     "data": {
      "text/plain": [
       "<qiskit.circuit.instructionset.InstructionSet at 0x28b58c3eb80>"
      ]
     },
     "execution_count": 14,
     "metadata": {},
     "output_type": "execute_result"
    }
   ],
   "source": [
    "circuit = QuantumCircuit(l+1,l)\n",
    "circuit.h(range(l))"
   ]
  },
  {
   "cell_type": "code",
   "execution_count": 15,
   "id": "59807c51",
   "metadata": {},
   "outputs": [
    {
     "data": {
      "text/html": [
       "<pre style=\"word-wrap: normal;white-space: pre;background: #fff0;line-height: 1.1;font-family: &quot;Courier New&quot;,Courier,monospace\">     ┌───┐\n",
       "q_0: ┤ H ├\n",
       "     ├───┤\n",
       "q_1: ┤ H ├\n",
       "     ├───┤\n",
       "q_2: ┤ H ├\n",
       "     ├───┤\n",
       "q_3: ┤ H ├\n",
       "     ├───┤\n",
       "q_4: ┤ H ├\n",
       "     ├───┤\n",
       "q_5: ┤ H ├\n",
       "     └───┘\n",
       "q_6: ─────\n",
       "          \n",
       "c: 6/═════\n",
       "          </pre>"
      ],
      "text/plain": [
       "     ┌───┐\n",
       "q_0: ┤ H ├\n",
       "     ├───┤\n",
       "q_1: ┤ H ├\n",
       "     ├───┤\n",
       "q_2: ┤ H ├\n",
       "     ├───┤\n",
       "q_3: ┤ H ├\n",
       "     ├───┤\n",
       "q_4: ┤ H ├\n",
       "     ├───┤\n",
       "q_5: ┤ H ├\n",
       "     └───┘\n",
       "q_6: ─────\n",
       "          \n",
       "c: 6/═════\n",
       "          "
      ]
     },
     "execution_count": 15,
     "metadata": {},
     "output_type": "execute_result"
    }
   ],
   "source": [
    "circuit.draw()"
   ]
  },
  {
   "cell_type": "code",
   "execution_count": 16,
   "id": "cdd0e0e1",
   "metadata": {},
   "outputs": [
    {
     "data": {
      "text/html": [
       "<pre style=\"word-wrap: normal;white-space: pre;background: #fff0;line-height: 1.1;font-family: &quot;Courier New&quot;,Courier,monospace\">     ┌───┐     \n",
       "q_0: ┤ H ├─────\n",
       "     ├───┤     \n",
       "q_1: ┤ H ├─────\n",
       "     ├───┤     \n",
       "q_2: ┤ H ├─────\n",
       "     ├───┤     \n",
       "q_3: ┤ H ├─────\n",
       "     ├───┤     \n",
       "q_4: ┤ H ├─────\n",
       "     ├───┤     \n",
       "q_5: ┤ H ├─────\n",
       "     ├───┤┌───┐\n",
       "q_6: ┤ X ├┤ H ├\n",
       "     └───┘└───┘\n",
       "c: 6/══════════\n",
       "               </pre>"
      ],
      "text/plain": [
       "     ┌───┐     \n",
       "q_0: ┤ H ├─────\n",
       "     ├───┤     \n",
       "q_1: ┤ H ├─────\n",
       "     ├───┤     \n",
       "q_2: ┤ H ├─────\n",
       "     ├───┤     \n",
       "q_3: ┤ H ├─────\n",
       "     ├───┤     \n",
       "q_4: ┤ H ├─────\n",
       "     ├───┤     \n",
       "q_5: ┤ H ├─────\n",
       "     ├───┤┌───┐\n",
       "q_6: ┤ X ├┤ H ├\n",
       "     └───┘└───┘\n",
       "c: 6/══════════\n",
       "               "
      ]
     },
     "execution_count": 16,
     "metadata": {},
     "output_type": "execute_result"
    }
   ],
   "source": [
    "circuit.x(l)\n",
    "circuit.h(l)\n",
    "circuit.draw()"
   ]
  },
  {
   "cell_type": "code",
   "execution_count": 17,
   "id": "d0029379",
   "metadata": {},
   "outputs": [],
   "source": [
    "circuit.barrier()\n",
    "for i,j in enumerate(reversed(secret)):\n",
    "    if j=='1':\n",
    "        circuit.cx(i,l)"
   ]
  },
  {
   "cell_type": "code",
   "execution_count": 18,
   "id": "5d26ffd7",
   "metadata": {},
   "outputs": [
    {
     "data": {
      "text/html": [
       "<pre style=\"word-wrap: normal;white-space: pre;background: #fff0;line-height: 1.1;font-family: &quot;Courier New&quot;,Courier,monospace\">     ┌───┐      ░                \n",
       "q_0: ┤ H ├──────░───■────────────\n",
       "     ├───┤      ░   │            \n",
       "q_1: ┤ H ├──────░───┼────────────\n",
       "     ├───┤      ░   │            \n",
       "q_2: ┤ H ├──────░───┼────────────\n",
       "     ├───┤      ░   │            \n",
       "q_3: ┤ H ├──────░───┼────■───────\n",
       "     ├───┤      ░   │    │       \n",
       "q_4: ┤ H ├──────░───┼────┼───────\n",
       "     ├───┤      ░   │    │       \n",
       "q_5: ┤ H ├──────░───┼────┼────■──\n",
       "     ├───┤┌───┐ ░ ┌─┴─┐┌─┴─┐┌─┴─┐\n",
       "q_6: ┤ X ├┤ H ├─░─┤ X ├┤ X ├┤ X ├\n",
       "     └───┘└───┘ ░ └───┘└───┘└───┘\n",
       "c: 6/════════════════════════════\n",
       "                                 </pre>"
      ],
      "text/plain": [
       "     ┌───┐      ░                \n",
       "q_0: ┤ H ├──────░───■────────────\n",
       "     ├───┤      ░   │            \n",
       "q_1: ┤ H ├──────░───┼────────────\n",
       "     ├───┤      ░   │            \n",
       "q_2: ┤ H ├──────░───┼────────────\n",
       "     ├───┤      ░   │            \n",
       "q_3: ┤ H ├──────░───┼────■───────\n",
       "     ├───┤      ░   │    │       \n",
       "q_4: ┤ H ├──────░───┼────┼───────\n",
       "     ├───┤      ░   │    │       \n",
       "q_5: ┤ H ├──────░───┼────┼────■──\n",
       "     ├───┤┌───┐ ░ ┌─┴─┐┌─┴─┐┌─┴─┐\n",
       "q_6: ┤ X ├┤ H ├─░─┤ X ├┤ X ├┤ X ├\n",
       "     └───┘└───┘ ░ └───┘└───┘└───┘\n",
       "c: 6/════════════════════════════\n",
       "                                 "
      ]
     },
     "execution_count": 18,
     "metadata": {},
     "output_type": "execute_result"
    }
   ],
   "source": [
    "circuit.draw()"
   ]
  },
  {
   "cell_type": "code",
   "execution_count": 19,
   "id": "cbd12f71",
   "metadata": {},
   "outputs": [
    {
     "data": {
      "text/plain": [
       "<qiskit.circuit.instructionset.InstructionSet at 0x28b59356900>"
      ]
     },
     "execution_count": 19,
     "metadata": {},
     "output_type": "execute_result"
    }
   ],
   "source": [
    "circuit.barrier() # secret fed into the circuit till now. This is a black box and can be moved anyway\n",
    "circuit.h(range(l))"
   ]
  },
  {
   "cell_type": "code",
   "execution_count": 20,
   "id": "b4642d3d",
   "metadata": {},
   "outputs": [
    {
     "data": {
      "text/html": [
       "<pre style=\"word-wrap: normal;white-space: pre;background: #fff0;line-height: 1.1;font-family: &quot;Courier New&quot;,Courier,monospace\">     ┌───┐      ░                 ░ ┌───┐\n",
       "q_0: ┤ H ├──────░───■─────────────░─┤ H ├\n",
       "     ├───┤      ░   │             ░ ├───┤\n",
       "q_1: ┤ H ├──────░───┼─────────────░─┤ H ├\n",
       "     ├───┤      ░   │             ░ ├───┤\n",
       "q_2: ┤ H ├──────░───┼─────────────░─┤ H ├\n",
       "     ├───┤      ░   │             ░ ├───┤\n",
       "q_3: ┤ H ├──────░───┼────■────────░─┤ H ├\n",
       "     ├───┤      ░   │    │        ░ ├───┤\n",
       "q_4: ┤ H ├──────░───┼────┼────────░─┤ H ├\n",
       "     ├───┤      ░   │    │        ░ ├───┤\n",
       "q_5: ┤ H ├──────░───┼────┼────■───░─┤ H ├\n",
       "     ├───┤┌───┐ ░ ┌─┴─┐┌─┴─┐┌─┴─┐ ░ └───┘\n",
       "q_6: ┤ X ├┤ H ├─░─┤ X ├┤ X ├┤ X ├─░──────\n",
       "     └───┘└───┘ ░ └───┘└───┘└───┘ ░      \n",
       "c: 6/════════════════════════════════════\n",
       "                                         </pre>"
      ],
      "text/plain": [
       "     ┌───┐      ░                 ░ ┌───┐\n",
       "q_0: ┤ H ├──────░───■─────────────░─┤ H ├\n",
       "     ├───┤      ░   │             ░ ├───┤\n",
       "q_1: ┤ H ├──────░───┼─────────────░─┤ H ├\n",
       "     ├───┤      ░   │             ░ ├───┤\n",
       "q_2: ┤ H ├──────░───┼─────────────░─┤ H ├\n",
       "     ├───┤      ░   │             ░ ├───┤\n",
       "q_3: ┤ H ├──────░───┼────■────────░─┤ H ├\n",
       "     ├───┤      ░   │    │        ░ ├───┤\n",
       "q_4: ┤ H ├──────░───┼────┼────────░─┤ H ├\n",
       "     ├───┤      ░   │    │        ░ ├───┤\n",
       "q_5: ┤ H ├──────░───┼────┼────■───░─┤ H ├\n",
       "     ├───┤┌───┐ ░ ┌─┴─┐┌─┴─┐┌─┴─┐ ░ └───┘\n",
       "q_6: ┤ X ├┤ H ├─░─┤ X ├┤ X ├┤ X ├─░──────\n",
       "     └───┘└───┘ ░ └───┘└───┘└───┘ ░      \n",
       "c: 6/════════════════════════════════════\n",
       "                                         "
      ]
     },
     "execution_count": 20,
     "metadata": {},
     "output_type": "execute_result"
    }
   ],
   "source": [
    "circuit.draw()"
   ]
  },
  {
   "cell_type": "code",
   "execution_count": 21,
   "id": "b4259db4",
   "metadata": {},
   "outputs": [
    {
     "data": {
      "text/plain": [
       "<qiskit.circuit.instructionset.InstructionSet at 0x28b591f8900>"
      ]
     },
     "execution_count": 21,
     "metadata": {},
     "output_type": "execute_result"
    }
   ],
   "source": [
    "circuit.measure(range(l),range(l))"
   ]
  },
  {
   "cell_type": "code",
   "execution_count": 22,
   "id": "75067804",
   "metadata": {},
   "outputs": [
    {
     "data": {
      "text/html": [
       "<pre style=\"word-wrap: normal;white-space: pre;background: #fff0;line-height: 1.1;font-family: &quot;Courier New&quot;,Courier,monospace\">     ┌───┐      ░                 ░ ┌───┐┌─┐               \n",
       "q_0: ┤ H ├──────░───■─────────────░─┤ H ├┤M├───────────────\n",
       "     ├───┤      ░   │             ░ ├───┤└╥┘┌─┐            \n",
       "q_1: ┤ H ├──────░───┼─────────────░─┤ H ├─╫─┤M├────────────\n",
       "     ├───┤      ░   │             ░ ├───┤ ║ └╥┘┌─┐         \n",
       "q_2: ┤ H ├──────░───┼─────────────░─┤ H ├─╫──╫─┤M├─────────\n",
       "     ├───┤      ░   │             ░ ├───┤ ║  ║ └╥┘┌─┐      \n",
       "q_3: ┤ H ├──────░───┼────■────────░─┤ H ├─╫──╫──╫─┤M├──────\n",
       "     ├───┤      ░   │    │        ░ ├───┤ ║  ║  ║ └╥┘┌─┐   \n",
       "q_4: ┤ H ├──────░───┼────┼────────░─┤ H ├─╫──╫──╫──╫─┤M├───\n",
       "     ├───┤      ░   │    │        ░ ├───┤ ║  ║  ║  ║ └╥┘┌─┐\n",
       "q_5: ┤ H ├──────░───┼────┼────■───░─┤ H ├─╫──╫──╫──╫──╫─┤M├\n",
       "     ├───┤┌───┐ ░ ┌─┴─┐┌─┴─┐┌─┴─┐ ░ └───┘ ║  ║  ║  ║  ║ └╥┘\n",
       "q_6: ┤ X ├┤ H ├─░─┤ X ├┤ X ├┤ X ├─░───────╫──╫──╫──╫──╫──╫─\n",
       "     └───┘└───┘ ░ └───┘└───┘└───┘ ░       ║  ║  ║  ║  ║  ║ \n",
       "c: 6/═════════════════════════════════════╩══╩══╩══╩══╩══╩═\n",
       "                                          0  1  2  3  4  5 </pre>"
      ],
      "text/plain": [
       "     ┌───┐      ░                 ░ ┌───┐┌─┐               \n",
       "q_0: ┤ H ├──────░───■─────────────░─┤ H ├┤M├───────────────\n",
       "     ├───┤      ░   │             ░ ├───┤└╥┘┌─┐            \n",
       "q_1: ┤ H ├──────░───┼─────────────░─┤ H ├─╫─┤M├────────────\n",
       "     ├───┤      ░   │             ░ ├───┤ ║ └╥┘┌─┐         \n",
       "q_2: ┤ H ├──────░───┼─────────────░─┤ H ├─╫──╫─┤M├─────────\n",
       "     ├───┤      ░   │             ░ ├───┤ ║  ║ └╥┘┌─┐      \n",
       "q_3: ┤ H ├──────░───┼────■────────░─┤ H ├─╫──╫──╫─┤M├──────\n",
       "     ├───┤      ░   │    │        ░ ├───┤ ║  ║  ║ └╥┘┌─┐   \n",
       "q_4: ┤ H ├──────░───┼────┼────────░─┤ H ├─╫──╫──╫──╫─┤M├───\n",
       "     ├───┤      ░   │    │        ░ ├───┤ ║  ║  ║  ║ └╥┘┌─┐\n",
       "q_5: ┤ H ├──────░───┼────┼────■───░─┤ H ├─╫──╫──╫──╫──╫─┤M├\n",
       "     ├───┤┌───┐ ░ ┌─┴─┐┌─┴─┐┌─┴─┐ ░ └───┘ ║  ║  ║  ║  ║ └╥┘\n",
       "q_6: ┤ X ├┤ H ├─░─┤ X ├┤ X ├┤ X ├─░───────╫──╫──╫──╫──╫──╫─\n",
       "     └───┘└───┘ ░ └───┘└───┘└───┘ ░       ║  ║  ║  ║  ║  ║ \n",
       "c: 6/═════════════════════════════════════╩══╩══╩══╩══╩══╩═\n",
       "                                          0  1  2  3  4  5 "
      ]
     },
     "execution_count": 22,
     "metadata": {},
     "output_type": "execute_result"
    }
   ],
   "source": [
    "circuit.draw()"
   ]
  },
  {
   "cell_type": "code",
   "execution_count": 23,
   "id": "6d8be5cd",
   "metadata": {},
   "outputs": [
    {
     "name": "stdout",
     "output_type": "stream",
     "text": [
      "{'101001': 1}\n"
     ]
    }
   ],
   "source": [
    "simulator = Aer.get_backend('qasm_simulator')\n",
    "result = execute(circuit, backend = simulator, shots=1).result()\n",
    "counts = result.get_counts()\n",
    "print(counts)"
   ]
  },
  {
   "cell_type": "code",
   "execution_count": null,
   "id": "05522fbf",
   "metadata": {},
   "outputs": [],
   "source": []
  }
 ],
 "metadata": {
  "kernelspec": {
   "display_name": "Python 3",
   "language": "python",
   "name": "python3"
  },
  "language_info": {
   "codemirror_mode": {
    "name": "ipython",
    "version": 3
   },
   "file_extension": ".py",
   "mimetype": "text/x-python",
   "name": "python",
   "nbconvert_exporter": "python",
   "pygments_lexer": "ipython3",
   "version": "3.8.8"
  }
 },
 "nbformat": 4,
 "nbformat_minor": 5
}
